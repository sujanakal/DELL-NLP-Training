{
  "nbformat": 4,
  "nbformat_minor": 0,
  "metadata": {
    "colab": {
      "name": "Python_ex_1.ipynb",
      "version": "0.3.2",
      "provenance": [],
      "collapsed_sections": [],
      "include_colab_link": true
    },
    "kernelspec": {
      "name": "python3",
      "display_name": "Python 3"
    }
  },
  "cells": [
    {
      "cell_type": "markdown",
      "metadata": {
        "id": "view-in-github",
        "colab_type": "text"
      },
      "source": [
        "<a href=\"https://colab.research.google.com/github/sujanakal/DELL-NLP-Training/blob/master/Python_Day_1.ipynb\" target=\"_parent\"><img src=\"https://colab.research.google.com/assets/colab-badge.svg\" alt=\"Open In Colab\"/></a>"
      ]
    },
    {
      "cell_type": "code",
      "metadata": {
        "id": "_1hxF8UB3N8h",
        "colab_type": "code",
        "colab": {}
      },
      "source": [
        "print(\"Hell World\")"
      ],
      "execution_count": 0,
      "outputs": []
    },
    {
      "cell_type": "code",
      "metadata": {
        "id": "1qbtliS66EaS",
        "colab_type": "code",
        "outputId": "0083109d-72f7-48f6-9c90-30f94d45bf27",
        "colab": {
          "base_uri": "https://localhost:8080/",
          "height": 229
        }
      },
      "source": [
        "L1 = [2,4,6,8,10]\n",
        "L2 = [1,3,5,7,9]\n",
        "\n",
        "# prod = [num * 2 for num in L2]\n",
        "# print(prod)\n",
        "\n",
        "# print(sum(L1+L2))\n",
        "\n",
        "\n",
        "# for a in L1:\n",
        "#   for b in L2:\n",
        "#     print(a+b)\n",
        "   "
      ],
      "execution_count": 0,
      "outputs": [
        {
          "output_type": "error",
          "ename": "AttributeError",
          "evalue": "ignored",
          "traceback": [
            "\u001b[0;31m---------------------------------------------------------------------------\u001b[0m",
            "\u001b[0;31mAttributeError\u001b[0m                            Traceback (most recent call last)",
            "\u001b[0;32m<ipython-input-33-99cff9f73ea1>\u001b[0m in \u001b[0;36m<module>\u001b[0;34m()\u001b[0m\n\u001b[1;32m      1\u001b[0m \u001b[0mL1\u001b[0m \u001b[0;34m=\u001b[0m \u001b[0;34m[\u001b[0m\u001b[0;36m2\u001b[0m\u001b[0;34m,\u001b[0m\u001b[0;36m4\u001b[0m\u001b[0;34m,\u001b[0m\u001b[0;36m6\u001b[0m\u001b[0;34m,\u001b[0m\u001b[0;36m8\u001b[0m\u001b[0;34m,\u001b[0m\u001b[0;36m10\u001b[0m\u001b[0;34m]\u001b[0m\u001b[0;34m\u001b[0m\u001b[0;34m\u001b[0m\u001b[0m\n\u001b[1;32m      2\u001b[0m \u001b[0mL2\u001b[0m \u001b[0;34m=\u001b[0m \u001b[0;34m[\u001b[0m\u001b[0;36m1\u001b[0m\u001b[0;34m,\u001b[0m\u001b[0;36m3\u001b[0m\u001b[0;34m,\u001b[0m\u001b[0;36m5\u001b[0m\u001b[0;34m,\u001b[0m\u001b[0;36m7\u001b[0m\u001b[0;34m,\u001b[0m\u001b[0;36m9\u001b[0m\u001b[0;34m]\u001b[0m\u001b[0;34m\u001b[0m\u001b[0;34m\u001b[0m\u001b[0m\n\u001b[0;32m----> 3\u001b[0;31m \u001b[0mprint\u001b[0m\u001b[0;34m(\u001b[0m\u001b[0mL1\u001b[0m\u001b[0;34m.\u001b[0m\u001b[0mrange\u001b[0m\u001b[0;34m(\u001b[0m\u001b[0;34m)\u001b[0m\u001b[0;34m)\u001b[0m\u001b[0;34m\u001b[0m\u001b[0;34m\u001b[0m\u001b[0m\n\u001b[0m\u001b[1;32m      4\u001b[0m \u001b[0mrange\u001b[0m\u001b[0;34m(\u001b[0m\u001b[0;34m)\u001b[0m\u001b[0;34m\u001b[0m\u001b[0;34m\u001b[0m\u001b[0m\n\u001b[1;32m      5\u001b[0m \u001b[0;31m# prod = [num * 2 for num in L2]\u001b[0m\u001b[0;34m\u001b[0m\u001b[0;34m\u001b[0m\u001b[0;34m\u001b[0m\u001b[0m\n",
            "\u001b[0;31mAttributeError\u001b[0m: 'list' object has no attribute 'range'"
          ]
        }
      ]
    },
    {
      "cell_type": "markdown",
      "metadata": {
        "id": "-wZUg4dcCEF9",
        "colab_type": "text"
      },
      "source": [
        "Problem **1**"
      ]
    },
    {
      "cell_type": "code",
      "metadata": {
        "id": "8jTJqLOs7jjt",
        "colab_type": "code",
        "outputId": "6f3f622a-5fed-4d40-f1cf-b6d5734b346b",
        "colab": {
          "base_uri": "https://localhost:8080/",
          "height": 118
        }
      },
      "source": [
        "# import numpy as np\n",
        "# np.array(range(0,360,30))\n",
        "\n",
        "#Prob 1\n",
        "angle = list(range(0,360,30))\n",
        "\n",
        "#Prob 2\n",
        "val = angle[len(angle) - 1]\n",
        "if val == 360:\n",
        "  print(angle)\n",
        "else:\n",
        "  angle = list(range(0,390,30))\n",
        "  print(angle)\n",
        "  \n",
        "#Prob 3 - 3 and 9\n",
        "i1 = angle.index(90)\n",
        "print(\"Index of 90: \",i1)\n",
        "\n",
        "i2 = angle.index(270)\n",
        "print(\"Index of 270: \",i2)\n",
        "\n",
        "#Prob 4\n",
        "revi1 = len(angle) - i1 - 1\n",
        "revi2 = len(angle) - i2 - 1\n",
        "print(\"Reverse index of 90: \",revi1)\n",
        "print(\"Reverse index of 270: \",revi2)\n",
        "\n",
        "#Prob 5 and Prob 6\n",
        "sub_angle = angle[revi1:revi2-1:-1]\n",
        "print(sub_angle)"
      ],
      "execution_count": 0,
      "outputs": [
        {
          "output_type": "stream",
          "text": [
            "[0, 30, 60, 90, 120, 150, 180, 210, 240, 270, 300, 330, 360]\n",
            "Index of 90:  3\n",
            "Index of 270:  9\n",
            "Reverse index of 90:  9\n",
            "Reverse index of 270:  3\n",
            "[270, 240, 210, 180, 150, 120, 90]\n"
          ],
          "name": "stdout"
        }
      ]
    },
    {
      "cell_type": "code",
      "metadata": {
        "id": "hcdI7G6ld-WX",
        "colab_type": "code",
        "outputId": "f29f3555-45f4-443a-f25d-b668d7795ea6",
        "colab": {
          "base_uri": "https://localhost:8080/",
          "height": 168
        }
      },
      "source": [
        "L1 = [2,4,6,8,10]\n",
        "L2 = L1\n",
        "L2.remove(L2[2]) \n",
        "print(\"Using L2 = L1\")\n",
        "print(\"L2: \",L2)\n",
        "print(\"L1: \",L1)\n",
        "\n",
        "\n",
        "L1 = [2,4,6,8,10]\n",
        "L2 = L1.copy()\n",
        "L2.remove(L2[2])\n",
        "print(\"Using L2 = L1.copy()\")\n",
        "print(\"L2: \",L2)\n",
        "print(\"L1: \",L1)\n",
        "\n",
        "L1 = [2,4,6,8,10]\n",
        "L2 = L1[:]\n",
        "del(L2[2])\n",
        "print(\"Using L2 = L1[]\")\n",
        "print(\"L2: \",L2)\n",
        "print(\"L1: \",L1)\n"
      ],
      "execution_count": 0,
      "outputs": [
        {
          "output_type": "stream",
          "text": [
            "Using L2 = L1\n",
            "L2:  [2, 4, 8, 10]\n",
            "L1:  [2, 4, 8, 10]\n",
            "Using L2 = L1.copy()\n",
            "L2:  [2, 4, 8, 10]\n",
            "L1:  [2, 4, 6, 8, 10]\n",
            "Using L2 = L1[]\n",
            "L2:  [2, 4, 8, 10]\n",
            "L1:  [2, 4, 6, 8, 10]\n"
          ],
          "name": "stdout"
        }
      ]
    },
    {
      "cell_type": "code",
      "metadata": {
        "id": "qbbayPbknaDc",
        "colab_type": "code",
        "colab": {}
      },
      "source": [
        "import numpy as np\n",
        "import tensorflow as tf\n"
      ],
      "execution_count": 0,
      "outputs": []
    },
    {
      "cell_type": "code",
      "metadata": {
        "id": "Qr-li0QGnmBV",
        "colab_type": "code",
        "outputId": "37cd18f2-69db-46f9-ded7-5c3a89544181",
        "colab": {
          "base_uri": "https://localhost:8080/",
          "height": 296
        }
      },
      "source": [
        "import pytorch"
      ],
      "execution_count": 0,
      "outputs": [
        {
          "output_type": "error",
          "ename": "ModuleNotFoundError",
          "evalue": "ignored",
          "traceback": [
            "\u001b[0;31m---------------------------------------------------------------------------\u001b[0m",
            "\u001b[0;31mModuleNotFoundError\u001b[0m                       Traceback (most recent call last)",
            "\u001b[0;32m<ipython-input-98-d35c46f8d1a2>\u001b[0m in \u001b[0;36m<module>\u001b[0;34m()\u001b[0m\n\u001b[0;32m----> 1\u001b[0;31m \u001b[0;32mimport\u001b[0m \u001b[0mpytorch\u001b[0m\u001b[0;34m\u001b[0m\u001b[0;34m\u001b[0m\u001b[0m\n\u001b[0m",
            "\u001b[0;31mModuleNotFoundError\u001b[0m: No module named 'pytorch'",
            "",
            "\u001b[0;31m---------------------------------------------------------------------------\u001b[0;32m\nNOTE: If your import is failing due to a missing package, you can\nmanually install dependencies using either !pip or !apt.\n\nTo view examples of installing some common dependencies, click the\n\"Open Examples\" button below.\n\u001b[0;31m---------------------------------------------------------------------------\u001b[0m\n"
          ]
        }
      ]
    },
    {
      "cell_type": "code",
      "metadata": {
        "id": "Q2RBvlu9olsy",
        "colab_type": "code",
        "outputId": "4db65203-47e6-4609-8bfd-aa43f1ec55cf",
        "colab": {
          "base_uri": "https://localhost:8080/",
          "height": 246
        }
      },
      "source": [
        "T1 = tuple(range(0,45,10)) #Declaring Tuple 1\n",
        "t = (2,4,6,8)              #Declaring Tuple 2\n",
        "print(type(t))\n",
        "print(t)      \n",
        "T1 = T1 + (50,)            #Adding the element to List or Tuple - for tuple it should be followed ,\n",
        "print(T1)\n",
        "del(T1[2])"
      ],
      "execution_count": 0,
      "outputs": [
        {
          "output_type": "stream",
          "text": [
            "<class 'tuple'>\n",
            "(2, 4, 6, 8)\n",
            "(0, 10, 20, 30, 40, 50)\n"
          ],
          "name": "stdout"
        },
        {
          "output_type": "error",
          "ename": "TypeError",
          "evalue": "ignored",
          "traceback": [
            "\u001b[0;31m---------------------------------------------------------------------------\u001b[0m",
            "\u001b[0;31mTypeError\u001b[0m                                 Traceback (most recent call last)",
            "\u001b[0;32m<ipython-input-122-1f1c87be892a>\u001b[0m in \u001b[0;36m<module>\u001b[0;34m()\u001b[0m\n\u001b[1;32m      5\u001b[0m \u001b[0mT1\u001b[0m \u001b[0;34m=\u001b[0m \u001b[0mT1\u001b[0m \u001b[0;34m+\u001b[0m \u001b[0;34m(\u001b[0m\u001b[0;36m50\u001b[0m\u001b[0;34m,\u001b[0m\u001b[0;34m)\u001b[0m            \u001b[0;31m#Adding the element to List or Tuple - for tuple it should be followed ,\u001b[0m\u001b[0;34m\u001b[0m\u001b[0;34m\u001b[0m\u001b[0m\n\u001b[1;32m      6\u001b[0m \u001b[0mprint\u001b[0m\u001b[0;34m(\u001b[0m\u001b[0mT1\u001b[0m\u001b[0;34m)\u001b[0m\u001b[0;34m\u001b[0m\u001b[0;34m\u001b[0m\u001b[0m\n\u001b[0;32m----> 7\u001b[0;31m \u001b[0;32mdel\u001b[0m\u001b[0;34m(\u001b[0m\u001b[0mT1\u001b[0m\u001b[0;34m[\u001b[0m\u001b[0;36m2\u001b[0m\u001b[0;34m]\u001b[0m\u001b[0;34m)\u001b[0m\u001b[0;34m\u001b[0m\u001b[0;34m\u001b[0m\u001b[0m\n\u001b[0m",
            "\u001b[0;31mTypeError\u001b[0m: 'tuple' object doesn't support item deletion"
          ]
        }
      ]
    },
    {
      "cell_type": "code",
      "metadata": {
        "id": "examr-AJpDOg",
        "colab_type": "code",
        "outputId": "dd22c471-90b7-4f7d-8844-324737247de1",
        "colab": {
          "base_uri": "https://localhost:8080/",
          "height": 229
        }
      },
      "source": [
        "L1 = list(range(0,45,10))\n",
        "print(L1)\n",
        "L1.append(50)\n",
        "L1 = L1 - int(40)\n",
        "print(L1)"
      ],
      "execution_count": 0,
      "outputs": [
        {
          "output_type": "stream",
          "text": [
            "[0, 10, 20, 30, 40]\n"
          ],
          "name": "stdout"
        },
        {
          "output_type": "error",
          "ename": "TypeError",
          "evalue": "ignored",
          "traceback": [
            "\u001b[0;31m---------------------------------------------------------------------------\u001b[0m",
            "\u001b[0;31mTypeError\u001b[0m                                 Traceback (most recent call last)",
            "\u001b[0;32m<ipython-input-125-b6561a21a1d0>\u001b[0m in \u001b[0;36m<module>\u001b[0;34m()\u001b[0m\n\u001b[1;32m      2\u001b[0m \u001b[0mprint\u001b[0m\u001b[0;34m(\u001b[0m\u001b[0mL1\u001b[0m\u001b[0;34m)\u001b[0m\u001b[0;34m\u001b[0m\u001b[0;34m\u001b[0m\u001b[0m\n\u001b[1;32m      3\u001b[0m \u001b[0mL1\u001b[0m\u001b[0;34m.\u001b[0m\u001b[0mappend\u001b[0m\u001b[0;34m(\u001b[0m\u001b[0;36m50\u001b[0m\u001b[0;34m)\u001b[0m\u001b[0;34m\u001b[0m\u001b[0;34m\u001b[0m\u001b[0m\n\u001b[0;32m----> 4\u001b[0;31m \u001b[0mL1\u001b[0m \u001b[0;34m=\u001b[0m \u001b[0mL1\u001b[0m \u001b[0;34m-\u001b[0m \u001b[0mint\u001b[0m\u001b[0;34m(\u001b[0m\u001b[0;36m40\u001b[0m\u001b[0;34m)\u001b[0m\u001b[0;34m\u001b[0m\u001b[0;34m\u001b[0m\u001b[0m\n\u001b[0m\u001b[1;32m      5\u001b[0m \u001b[0mprint\u001b[0m\u001b[0;34m(\u001b[0m\u001b[0mL1\u001b[0m\u001b[0;34m)\u001b[0m\u001b[0;34m\u001b[0m\u001b[0;34m\u001b[0m\u001b[0m\n",
            "\u001b[0;31mTypeError\u001b[0m: unsupported operand type(s) for -: 'list' and 'int'"
          ]
        }
      ]
    },
    {
      "cell_type": "code",
      "metadata": {
        "id": "h5IWm5m-zD-F",
        "colab_type": "code",
        "outputId": "8cbe9a36-275a-439f-c88a-289d230609c4",
        "colab": {
          "base_uri": "https://localhost:8080/",
          "height": 70
        }
      },
      "source": [
        "states = {'Andra Pradesh' : [49506799, 'Hyderabad',False],\n",
        "         'Arunachal Pradesh' : [1383727,'Itanagar', True],\n",
        "         'Assam' : [312055576, 'Dispur', False],\n",
        "         'Bihar' : [104099452, 'Patna', True]}\n",
        "print(states['Bihar'])\n",
        "#states += {'Telangana' : [35190000, 'Hyderabad', True],} --> Cannot use the += operation on Dictionary\n",
        "\n",
        "states.update({'Telangana' : [35190000, 'Hyderabad', True]}) #Way 1\n",
        "states['Telangana'] = [35190000, 'Hyderabad', True]           #Way 2\n",
        "print(states)"
      ],
      "execution_count": 0,
      "outputs": [
        {
          "output_type": "stream",
          "text": [
            "[104099452, 'Patna', True]\n",
            "{'Andra Pradesh': [49506799, 'Hyderabad', False], 'Arunachal Pradesh': [1383727, 'Itanagar', True], 'Assam': [312055576, 'Dispur', False], 'Bihar': [104099452, 'Patna', True], 'Telangana': [35190000, 'Hyderabad', True]}\n"
          ],
          "name": "stdout"
        }
      ]
    },
    {
      "cell_type": "code",
      "metadata": {
        "id": "bUFaySj6-qz8",
        "colab_type": "code",
        "outputId": "818539da-a1e8-42a8-a0bc-bec9e7006c6c",
        "colab": {
          "base_uri": "https://localhost:8080/",
          "height": 84
        }
      },
      "source": [
        "import numpy as np\n",
        "\n",
        "def deg_rad(angle):\n",
        "  rad_angle = angle / 360 * 2 * 22 / 7\n",
        "  return(rad_angle)\n",
        "\n",
        "print(deg_rad(360))\n",
        "\n",
        "# lst = [360, 180]\n",
        "# print(deg_rad(lst))         #For List it will not work\n",
        "\n",
        "nparray = np.array([360,180])\n",
        "print(deg_rad(nparray))       #For Numpy array it WILL work\n",
        "\n",
        "deg_rad_inline = lambda angle, rotate: angle / 360 * 2 * 22 / 7 + rotate   #Declaration and definition of Lambda\n",
        "print(deg_rad_inline(360,0))\n",
        "print(deg_rad_inline(360,deg_rad(90)))\n",
        "\n"
      ],
      "execution_count": 0,
      "outputs": [
        {
          "output_type": "stream",
          "text": [
            "6.285714285714286\n",
            "[6.28571429 3.14285714]\n",
            "6.285714285714286\n",
            "7.857142857142857\n"
          ],
          "name": "stdout"
        }
      ]
    },
    {
      "cell_type": "markdown",
      "metadata": {
        "id": "gJoVp-ATCJpP",
        "colab_type": "text"
      },
      "source": [
        ""
      ]
    }
  ]
}